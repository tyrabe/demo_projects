{
 "cells": [
  {
   "cell_type": "code",
   "execution_count": 1,
   "metadata": {},
   "outputs": [
    {
     "data": {
      "text/html": [
       "<style>.container { width:100% !important; }</style>"
      ],
      "text/plain": [
       "<IPython.core.display.HTML object>"
      ]
     },
     "metadata": {},
     "output_type": "display_data"
    }
   ],
   "source": [
    "import pandas as pd\n",
    "import matplotlib.pyplot as plt \n",
    "import numpy as np\n",
    "import datetime\n",
    "import os \n",
    "\n",
    "import sys\n",
    "sys.path.append(\"C:/Users/tyrab/tyler_python/interview_prep/\")\n",
    "sys.path.append(\"C:/Users/tyrab/tyler_python/futures_trading/\")\n",
    "\n",
    "from IPython.core.display import display, HTML\n",
    "display(HTML(\"<style>.container { width:100% !important; }</style>\"))"
   ]
  },
  {
   "cell_type": "code",
   "execution_count": 102,
   "metadata": {},
   "outputs": [
    {
     "data": {
      "text/plain": [
       "'6.0.1'"
      ]
     },
     "execution_count": 102,
     "metadata": {},
     "output_type": "execute_result"
    }
   ],
   "source": [
    "# !pip install --upgrade --user snowflake_connector_python\n",
    "# !pip install --user pyarrow==6.0.1\n",
    "import pyarrow\n",
    "pyarrow.__version__"
   ]
  },
  {
   "cell_type": "code",
   "execution_count": 103,
   "metadata": {},
   "outputs": [],
   "source": [
    "import snowflake.connector\n",
    "from snowflake.connector.pandas_tools import write_pandas"
   ]
  },
  {
   "cell_type": "code",
   "execution_count": 4,
   "metadata": {},
   "outputs": [],
   "source": [
    "con = snowflake.connector.connect(\n",
    "    user='tyrabe486',\n",
    "    password='TE18_Hershey',\n",
    "    account='bc44100.us-east-2.aws'\n",
    ")"
   ]
  },
  {
   "cell_type": "code",
   "execution_count": 5,
   "metadata": {},
   "outputs": [],
   "source": [
    "# Create cursor\n",
    "cur = con.cursor()"
   ]
  },
  {
   "cell_type": "code",
   "execution_count": 6,
   "metadata": {},
   "outputs": [
    {
     "data": {
      "text/plain": [
       "<snowflake.connector.cursor.SnowflakeCursor at 0x2ba0f737308>"
      ]
     },
     "execution_count": 6,
     "metadata": {},
     "output_type": "execute_result"
    }
   ],
   "source": [
    "# Test to make sure its working \n",
    "cur.execute(\"select current_date;\")"
   ]
  },
  {
   "cell_type": "code",
   "execution_count": 7,
   "metadata": {},
   "outputs": [
    {
     "name": "stdout",
     "output_type": "stream",
     "text": [
      "2022-04-17\n"
     ]
    }
   ],
   "source": [
    "print(cur.fetchone()[0])"
   ]
  },
  {
   "cell_type": "code",
   "execution_count": 8,
   "metadata": {},
   "outputs": [
    {
     "data": {
      "text/plain": [
       "<snowflake.connector.cursor.SnowflakeCursor at 0x2ba1097b248>"
      ]
     },
     "execution_count": 8,
     "metadata": {},
     "output_type": "execute_result"
    }
   ],
   "source": [
    "#Create a database to store my data\n",
    "con.cursor().execute(\"CREATE DATABASE IF NOT EXISTS futures_data\")\n",
    "con.cursor().execute(\"USE DATABASE futures_data\")"
   ]
  },
  {
   "cell_type": "code",
   "execution_count": 99,
   "metadata": {},
   "outputs": [],
   "source": [
    "#Import some functions to get Futures data from my other github package\n",
    "from dataframe_functions.input_preprocessing import load_data\n",
    "from etl.processing.create_price_data import PriceData"
   ]
  },
  {
   "cell_type": "code",
   "execution_count": 58,
   "metadata": {},
   "outputs": [],
   "source": [
    "es_data = load_data('es', base_path='C:/Users/tyrab/tyler_python/futures_trading/etl/input_data/')"
   ]
  },
  {
   "cell_type": "code",
   "execution_count": 59,
   "metadata": {},
   "outputs": [],
   "source": [
    "es_all = PriceData(es_data)"
   ]
  },
  {
   "cell_type": "code",
   "execution_count": 60,
   "metadata": {},
   "outputs": [],
   "source": [
    "daily_data = es_all.df_daily"
   ]
  },
  {
   "cell_type": "code",
   "execution_count": 61,
   "metadata": {},
   "outputs": [],
   "source": [
    "daily_data['DATE_COL'] =daily_data.timestamp.dt.date"
   ]
  },
  {
   "cell_type": "code",
   "execution_count": 62,
   "metadata": {},
   "outputs": [],
   "source": [
    "daily_data.columns = daily_data.columns.str.upper()"
   ]
  },
  {
   "cell_type": "code",
   "execution_count": 63,
   "metadata": {},
   "outputs": [],
   "source": [
    "daily_data = daily_data[['DATE_COL', 'OPEN', 'HIGH', 'LOW', 'CLOSE', 'VOLUME']]"
   ]
  },
  {
   "cell_type": "code",
   "execution_count": 64,
   "metadata": {},
   "outputs": [
    {
     "data": {
      "text/html": [
       "<div>\n",
       "<style scoped>\n",
       "    .dataframe tbody tr th:only-of-type {\n",
       "        vertical-align: middle;\n",
       "    }\n",
       "\n",
       "    .dataframe tbody tr th {\n",
       "        vertical-align: top;\n",
       "    }\n",
       "\n",
       "    .dataframe thead th {\n",
       "        text-align: right;\n",
       "    }\n",
       "</style>\n",
       "<table border=\"1\" class=\"dataframe\">\n",
       "  <thead>\n",
       "    <tr style=\"text-align: right;\">\n",
       "      <th></th>\n",
       "      <th>DATE_COL</th>\n",
       "      <th>OPEN</th>\n",
       "      <th>HIGH</th>\n",
       "      <th>LOW</th>\n",
       "      <th>CLOSE</th>\n",
       "      <th>VOLUME</th>\n",
       "    </tr>\n",
       "  </thead>\n",
       "  <tbody>\n",
       "    <tr>\n",
       "      <th>0</th>\n",
       "      <td>2015-01-02</td>\n",
       "      <td>2061.25</td>\n",
       "      <td>2066.50</td>\n",
       "      <td>2038.75</td>\n",
       "      <td>2046.25</td>\n",
       "      <td>1162587</td>\n",
       "    </tr>\n",
       "    <tr>\n",
       "      <th>3</th>\n",
       "      <td>2015-01-05</td>\n",
       "      <td>2038.25</td>\n",
       "      <td>2040.50</td>\n",
       "      <td>2009.50</td>\n",
       "      <td>2013.75</td>\n",
       "      <td>1735654</td>\n",
       "    </tr>\n",
       "    <tr>\n",
       "      <th>4</th>\n",
       "      <td>2015-01-06</td>\n",
       "      <td>2017.50</td>\n",
       "      <td>2023.50</td>\n",
       "      <td>1984.25</td>\n",
       "      <td>1993.50</td>\n",
       "      <td>2026837</td>\n",
       "    </tr>\n",
       "    <tr>\n",
       "      <th>5</th>\n",
       "      <td>2015-01-07</td>\n",
       "      <td>2010.25</td>\n",
       "      <td>2023.75</td>\n",
       "      <td>2004.75</td>\n",
       "      <td>2018.50</td>\n",
       "      <td>1436722</td>\n",
       "    </tr>\n",
       "    <tr>\n",
       "      <th>6</th>\n",
       "      <td>2015-01-08</td>\n",
       "      <td>2036.50</td>\n",
       "      <td>2058.50</td>\n",
       "      <td>2036.00</td>\n",
       "      <td>2055.75</td>\n",
       "      <td>1242665</td>\n",
       "    </tr>\n",
       "  </tbody>\n",
       "</table>\n",
       "</div>"
      ],
      "text/plain": [
       "     DATE_COL     OPEN     HIGH      LOW    CLOSE   VOLUME\n",
       "0  2015-01-02  2061.25  2066.50  2038.75  2046.25  1162587\n",
       "3  2015-01-05  2038.25  2040.50  2009.50  2013.75  1735654\n",
       "4  2015-01-06  2017.50  2023.50  1984.25  1993.50  2026837\n",
       "5  2015-01-07  2010.25  2023.75  2004.75  2018.50  1436722\n",
       "6  2015-01-08  2036.50  2058.50  2036.00  2055.75  1242665"
      ]
     },
     "execution_count": 64,
     "metadata": {},
     "output_type": "execute_result"
    }
   ],
   "source": [
    "daily_data.head()"
   ]
  },
  {
   "cell_type": "code",
   "execution_count": 65,
   "metadata": {},
   "outputs": [
    {
     "data": {
      "text/plain": [
       "DATE_COL     object\n",
       "OPEN        float64\n",
       "HIGH        float64\n",
       "LOW         float64\n",
       "CLOSE       float64\n",
       "VOLUME        int64\n",
       "dtype: object"
      ]
     },
     "execution_count": 65,
     "metadata": {},
     "output_type": "execute_result"
    }
   ],
   "source": [
    "daily_data.dtypes"
   ]
  },
  {
   "cell_type": "code",
   "execution_count": 31,
   "metadata": {},
   "outputs": [],
   "source": []
  },
  {
   "cell_type": "code",
   "execution_count": null,
   "metadata": {},
   "outputs": [],
   "source": []
  },
  {
   "cell_type": "code",
   "execution_count": 91,
   "metadata": {},
   "outputs": [],
   "source": [
    "#Create the SQL statement to create or replace the table\n",
    "dataframe = daily_data\n",
    "\n",
    "create_tbl_statement = \"CREATE OR REPLACE TABLE \" + 'ES_DAILY' + \" (\\n\"\n",
    "\n",
    "# Loop through each column finding the datatype and adding it to the statement\n",
    "\n",
    "for column in dataframe.columns:\n",
    "    if (\n",
    "    dataframe[column].dtype.name == \"int\"\n",
    "    or dataframe[column].dtype.name == \"int64\"\n",
    "    ):\n",
    "        create_tbl_statement = create_tbl_statement + column + \" INT\"\n",
    "    elif dataframe[column].dtype.name == \"object\":\n",
    "        create_tbl_statement = create_tbl_statement + column + \" DATE\"\n",
    "    elif dataframe[column].dtype.name == \"datetime64[ns]\":\n",
    "        create_tbl_statement = create_tbl_statement + column + \" TIMESTAMP\"\n",
    "    elif dataframe[column].dtype.name == \"float64\":\n",
    "        create_tbl_statement = create_tbl_statement + column + \" FLOAT\"\n",
    "#     elif dataframe[column].dtype.name == \"bool\":\n",
    "#         create_tbl_statement = create_tbl_statement + column + \" boolean\"\n",
    "    else:\n",
    "        create_tbl_statement = create_tbl_statement + column + \" varchar(16777216)\"\n",
    "\n",
    "    # If column is not last column, add comma, else end sql-query\n",
    "    if dataframe[column].name != dataframe.columns[-1]:\n",
    "        create_tbl_statement = create_tbl_statement + \",\\n\"\n",
    "    else:\n",
    "        create_tbl_statement = create_tbl_statement + \")\""
   ]
  },
  {
   "cell_type": "code",
   "execution_count": 92,
   "metadata": {},
   "outputs": [
    {
     "data": {
      "text/plain": [
       "'CREATE OR REPLACE TABLE ES_DAILY (\\nDATE_COL DATE,\\nOPEN FLOAT,\\nHIGH FLOAT,\\nLOW FLOAT,\\nCLOSE FLOAT,\\nVOLUME INT)'"
      ]
     },
     "execution_count": 92,
     "metadata": {},
     "output_type": "execute_result"
    }
   ],
   "source": [
    "create_tbl_statement"
   ]
  },
  {
   "cell_type": "code",
   "execution_count": 93,
   "metadata": {},
   "outputs": [
    {
     "data": {
      "text/plain": [
       "<snowflake.connector.cursor.SnowflakeCursor at 0x2ba263eb148>"
      ]
     },
     "execution_count": 93,
     "metadata": {},
     "output_type": "execute_result"
    }
   ],
   "source": [
    "# Create the empty table in snowflake with specified data types\n",
    "con.cursor().execute(create_tbl_statement)"
   ]
  },
  {
   "cell_type": "code",
   "execution_count": null,
   "metadata": {},
   "outputs": [],
   "source": []
  },
  {
   "cell_type": "code",
   "execution_count": 94,
   "metadata": {},
   "outputs": [],
   "source": [
    "# Write Data to Snowflake.\n",
    "success, nchunks, nrows, _ = write_pandas(con, daily_data, table_name='ES_DAILY')"
   ]
  },
  {
   "cell_type": "code",
   "execution_count": 95,
   "metadata": {},
   "outputs": [
    {
     "data": {
      "text/plain": [
       "<snowflake.connector.cursor.SnowflakeCursor at 0x2ba111f7488>"
      ]
     },
     "execution_count": 95,
     "metadata": {},
     "output_type": "execute_result"
    }
   ],
   "source": [
    "cur = con.cursor()\n",
    "cur.execute('select * from ES_DAILY')"
   ]
  },
  {
   "cell_type": "code",
   "execution_count": null,
   "metadata": {},
   "outputs": [],
   "source": []
  },
  {
   "cell_type": "code",
   "execution_count": 96,
   "metadata": {},
   "outputs": [
    {
     "data": {
      "text/html": [
       "<div>\n",
       "<style scoped>\n",
       "    .dataframe tbody tr th:only-of-type {\n",
       "        vertical-align: middle;\n",
       "    }\n",
       "\n",
       "    .dataframe tbody tr th {\n",
       "        vertical-align: top;\n",
       "    }\n",
       "\n",
       "    .dataframe thead th {\n",
       "        text-align: right;\n",
       "    }\n",
       "</style>\n",
       "<table border=\"1\" class=\"dataframe\">\n",
       "  <thead>\n",
       "    <tr style=\"text-align: right;\">\n",
       "      <th></th>\n",
       "      <th>DATE_COL</th>\n",
       "      <th>OPEN</th>\n",
       "      <th>HIGH</th>\n",
       "      <th>LOW</th>\n",
       "      <th>CLOSE</th>\n",
       "      <th>VOLUME</th>\n",
       "    </tr>\n",
       "  </thead>\n",
       "  <tbody>\n",
       "    <tr>\n",
       "      <th>0</th>\n",
       "      <td>2015-01-02</td>\n",
       "      <td>2061.25</td>\n",
       "      <td>2066.50</td>\n",
       "      <td>2038.75</td>\n",
       "      <td>2046.25</td>\n",
       "      <td>1162587</td>\n",
       "    </tr>\n",
       "    <tr>\n",
       "      <th>1</th>\n",
       "      <td>2015-01-05</td>\n",
       "      <td>2038.25</td>\n",
       "      <td>2040.50</td>\n",
       "      <td>2009.50</td>\n",
       "      <td>2013.75</td>\n",
       "      <td>1735654</td>\n",
       "    </tr>\n",
       "    <tr>\n",
       "      <th>2</th>\n",
       "      <td>2015-01-06</td>\n",
       "      <td>2017.50</td>\n",
       "      <td>2023.50</td>\n",
       "      <td>1984.25</td>\n",
       "      <td>1993.50</td>\n",
       "      <td>2026837</td>\n",
       "    </tr>\n",
       "    <tr>\n",
       "      <th>3</th>\n",
       "      <td>2015-01-07</td>\n",
       "      <td>2010.25</td>\n",
       "      <td>2023.75</td>\n",
       "      <td>2004.75</td>\n",
       "      <td>2018.50</td>\n",
       "      <td>1436722</td>\n",
       "    </tr>\n",
       "    <tr>\n",
       "      <th>4</th>\n",
       "      <td>2015-01-08</td>\n",
       "      <td>2036.50</td>\n",
       "      <td>2058.50</td>\n",
       "      <td>2036.00</td>\n",
       "      <td>2055.75</td>\n",
       "      <td>1242665</td>\n",
       "    </tr>\n",
       "    <tr>\n",
       "      <th>...</th>\n",
       "      <td>...</td>\n",
       "      <td>...</td>\n",
       "      <td>...</td>\n",
       "      <td>...</td>\n",
       "      <td>...</td>\n",
       "      <td>...</td>\n",
       "    </tr>\n",
       "    <tr>\n",
       "      <th>510</th>\n",
       "      <td>2017-12-22</td>\n",
       "      <td>2688.25</td>\n",
       "      <td>2689.50</td>\n",
       "      <td>2682.25</td>\n",
       "      <td>2688.50</td>\n",
       "      <td>467637</td>\n",
       "    </tr>\n",
       "    <tr>\n",
       "      <th>511</th>\n",
       "      <td>2017-12-26</td>\n",
       "      <td>2685.50</td>\n",
       "      <td>2688.25</td>\n",
       "      <td>2684.25</td>\n",
       "      <td>2687.25</td>\n",
       "      <td>302110</td>\n",
       "    </tr>\n",
       "    <tr>\n",
       "      <th>512</th>\n",
       "      <td>2017-12-27</td>\n",
       "      <td>2688.25</td>\n",
       "      <td>2691.00</td>\n",
       "      <td>2681.50</td>\n",
       "      <td>2685.25</td>\n",
       "      <td>503337</td>\n",
       "    </tr>\n",
       "    <tr>\n",
       "      <th>513</th>\n",
       "      <td>2017-12-28</td>\n",
       "      <td>2688.25</td>\n",
       "      <td>2689.00</td>\n",
       "      <td>2683.00</td>\n",
       "      <td>2686.00</td>\n",
       "      <td>419437</td>\n",
       "    </tr>\n",
       "    <tr>\n",
       "      <th>514</th>\n",
       "      <td>2017-12-29</td>\n",
       "      <td>2693.75</td>\n",
       "      <td>2694.00</td>\n",
       "      <td>2674.25</td>\n",
       "      <td>2677.25</td>\n",
       "      <td>790325</td>\n",
       "    </tr>\n",
       "  </tbody>\n",
       "</table>\n",
       "<p>515 rows × 6 columns</p>\n",
       "</div>"
      ],
      "text/plain": [
       "       DATE_COL     OPEN     HIGH      LOW    CLOSE   VOLUME\n",
       "0    2015-01-02  2061.25  2066.50  2038.75  2046.25  1162587\n",
       "1    2015-01-05  2038.25  2040.50  2009.50  2013.75  1735654\n",
       "2    2015-01-06  2017.50  2023.50  1984.25  1993.50  2026837\n",
       "3    2015-01-07  2010.25  2023.75  2004.75  2018.50  1436722\n",
       "4    2015-01-08  2036.50  2058.50  2036.00  2055.75  1242665\n",
       "..          ...      ...      ...      ...      ...      ...\n",
       "510  2017-12-22  2688.25  2689.50  2682.25  2688.50   467637\n",
       "511  2017-12-26  2685.50  2688.25  2684.25  2687.25   302110\n",
       "512  2017-12-27  2688.25  2691.00  2681.50  2685.25   503337\n",
       "513  2017-12-28  2688.25  2689.00  2683.00  2686.00   419437\n",
       "514  2017-12-29  2693.75  2694.00  2674.25  2677.25   790325\n",
       "\n",
       "[515 rows x 6 columns]"
      ]
     },
     "execution_count": 96,
     "metadata": {},
     "output_type": "execute_result"
    }
   ],
   "source": [
    "cur.fetch_pandas_all()"
   ]
  },
  {
   "cell_type": "code",
   "execution_count": 85,
   "metadata": {},
   "outputs": [],
   "source": []
  },
  {
   "cell_type": "code",
   "execution_count": 97,
   "metadata": {},
   "outputs": [],
   "source": [
    "con.close()"
   ]
  },
  {
   "cell_type": "code",
   "execution_count": null,
   "metadata": {},
   "outputs": [],
   "source": []
  }
 ],
 "metadata": {
  "kernelspec": {
   "display_name": "Python 3",
   "language": "python",
   "name": "python3"
  },
  "language_info": {
   "codemirror_mode": {
    "name": "ipython",
    "version": 3
   },
   "file_extension": ".py",
   "mimetype": "text/x-python",
   "name": "python",
   "nbconvert_exporter": "python",
   "pygments_lexer": "ipython3",
   "version": "3.7.6"
  }
 },
 "nbformat": 4,
 "nbformat_minor": 4
}
