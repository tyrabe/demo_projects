{
 "cells": [
  {
   "cell_type": "code",
   "execution_count": 1,
   "metadata": {},
   "outputs": [
    {
     "data": {
      "text/html": [
       "<style>.container { width:100% !important; }</style>"
      ],
      "text/plain": [
       "<IPython.core.display.HTML object>"
      ]
     },
     "metadata": {},
     "output_type": "display_data"
    }
   ],
   "source": [
    "from pyspark import SparkContext, SQLContext\n",
    "\n",
    "import pandas as pd\n",
    "import matplotlib.pyplot as plt \n",
    "import pandas_market_calendars as mcal\n",
    "import numpy as np\n",
    "import datetime\n",
    "\n",
    "sc =SparkContext()\n",
    "\n",
    "from IPython.core.display import display, HTML\n",
    "display(HTML(\"<style>.container { width:100% !important; }</style>\"))\n",
    "\n",
    "# sc.stop()"
   ]
  },
  {
   "cell_type": "code",
   "execution_count": 2,
   "metadata": {},
   "outputs": [],
   "source": [
    "in_data = pd.read_csv(\"C:/Users/Rabe's/Desktop/FUTURES_DATA/1_MIN_DATA/YM.txt\",sep=\",\", header = None, names = ['date', 'time', 'open', 'high', 'low', 'close', 'volume'])"
   ]
  },
  {
   "cell_type": "code",
   "execution_count": 3,
   "metadata": {},
   "outputs": [],
   "source": [
    "def create_timestamp_intraday(df):\n",
    "    \n",
    "    df['timestamp'] = pd.to_datetime(df['date'] + ' ' +df['time'],format='%m/%d/%Y %H:%M')\n",
    "    \n",
    "    return df"
   ]
  },
  {
   "cell_type": "code",
   "execution_count": 4,
   "metadata": {},
   "outputs": [],
   "source": [
    "data = create_timestamp_intraday(in_data)"
   ]
  },
  {
   "cell_type": "markdown",
   "metadata": {},
   "source": [
    "## Load Data into Spark "
   ]
  },
  {
   "cell_type": "code",
   "execution_count": 5,
   "metadata": {},
   "outputs": [],
   "source": [
    "import pyspark.sql.functions as F\n",
    "from pyspark.sql import Window\n",
    "from pyspark.sql.types import TimestampType"
   ]
  },
  {
   "cell_type": "code",
   "execution_count": null,
   "metadata": {},
   "outputs": [],
   "source": [
    "sqlCtx = SQLContext(sc)\n",
    "sdf = sqlCtx.createDataFrame(data)\n",
    "sdf = sdf.withColumn('symbol', F.lit('YM')) "
   ]
  },
  {
   "cell_type": "code",
   "execution_count": null,
   "metadata": {},
   "outputs": [],
   "source": [
    "sdf.columns"
   ]
  },
  {
   "cell_type": "code",
   "execution_count": null,
   "metadata": {},
   "outputs": [],
   "source": [
    "def add_vwap(df):\n",
    "    \"\"\"\n",
    "    Volume Weighted Average Price cumulative volume*price / cumulative volume over each day\n",
    "    \"\"\"\n",
    "\n",
    "    df = df.withColumn('average_price', (F.col('high') + F.col('low') + F.col('close'))/3)\n",
    "    df = df.withColumn('dollars_traded', F.col('average_price')*F.col('volume'))\n",
    "\n",
    "    wind = (Window.partitionBy(['symbol', 'date']).orderBy('time').rangeBetween(Window.unboundedPreceding, 0))\n",
    "\n",
    "    df = df.withColumn('cumulative_dollars_traded', F.sum('dollars_traded').over(wind))\n",
    "    df = df.withColumn('cumulative_volume', F.sum('volume').over(wind))\n",
    "    df = df.withColumn('vwap', F.col('cumulative_dollars_traded')/F.col('cumulative_volume'))\n",
    "    df = df.drop('average_price', 'dollars_traded', 'cumulative_dollars_traded', 'cumulative_volume')\n",
    "\n",
    "    return df\n",
    "\n",
    "\n"
   ]
  },
  {
   "cell_type": "code",
   "execution_count": null,
   "metadata": {},
   "outputs": [],
   "source": [
    "sdf = add_vwap(sdf)"
   ]
  },
  {
   "cell_type": "code",
   "execution_count": null,
   "metadata": {},
   "outputs": [],
   "source": [
    "from pyspark.sql.types import TimestampType, DateType\n",
    "\n",
    "def resample_data(df, time_bin):\n",
    "    \n",
    "    df_gr = df.groupBy(['symbol', F.window(\"timestamp\", time_bin).alias('time_window')]).agg(F.first('open').alias('open'),\n",
    "                                                            F.max('high').alias('high'),\n",
    "                                                            F.min('low').alias('low'),\n",
    "                                                            F.last('close').alias('close'),\n",
    "                                                            F.sum('volume').alias('volume'),\n",
    "                                                            F.avg('vwap').alias('vwap'))\n",
    "\n",
    "    df_gr = df_gr.withColumn('start_timestamp', df_gr.time_window.start)\\\n",
    "                 .withColumn('end_timestamp', df_gr.time_window.end).drop('time_window').orderBy('start_timestamp')\\\n",
    "                 .withColumn('time_index', F.monotonically_increasing_id())\n",
    "    \n",
    "    return df_gr\n",
    "\n",
    "def add_standard_columns_intraday(df):\n",
    "    \n",
    "    df = df.withColumn('range', (F.col('high') - F.col('low')))\\\n",
    "           .withColumn('body', (F.col('open') - F.col('close')))\\\n",
    "           .withColumn('weekday', F.dayofweek(F.col('start_timestamp')))\\\n",
    "           .withColumn('hour', F.hour(F.col('start_timestamp')))\\\n",
    "           .withColumn('date', F.date_format('start_timestamp', 'yyyy-MM-dd').cast(DateType()))\\\n",
    "           .withColumn('time', F.date_format('start_timestamp', 'H:mm:ss'))\n",
    "\n",
    "    return df\n"
   ]
  },
  {
   "cell_type": "code",
   "execution_count": null,
   "metadata": {},
   "outputs": [],
   "source": [
    "df_resample = resample_data(sdf, \"4 hour\")"
   ]
  },
  {
   "cell_type": "code",
   "execution_count": null,
   "metadata": {},
   "outputs": [],
   "source": []
  },
  {
   "cell_type": "code",
   "execution_count": null,
   "metadata": {},
   "outputs": [],
   "source": []
  }
 ],
 "metadata": {
  "kernelspec": {
   "display_name": "Python 3",
   "language": "python",
   "name": "python3"
  },
  "language_info": {
   "codemirror_mode": {
    "name": "ipython",
    "version": 3
   },
   "file_extension": ".py",
   "mimetype": "text/x-python",
   "name": "python",
   "nbconvert_exporter": "python",
   "pygments_lexer": "ipython3",
   "version": "3.6.7"
  }
 },
 "nbformat": 4,
 "nbformat_minor": 2
}
